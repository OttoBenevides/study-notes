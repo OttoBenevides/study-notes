{
 "cells": [
  {
   "cell_type": "markdown",
   "id": "2bcfe1d7-fe71-4dc7-a0c2-6ad5f7f25f35",
   "metadata": {},
   "source": [
    "# Lei dos Grandes Números"
   ]
  },
  {
   "cell_type": "markdown",
   "id": "6e4ec44f-82f8-4fce-955d-71aec1b8d462",
   "metadata": {},
   "source": [
    "Na teoria da probabilidade apresenta como um teorema fundamental a lei dos grandes números (LGN), a qual descreve o resultado da realiziação do mesmo experimento repetidas vezes. De acordo com a LGN, à medida que o número de observações ou tentativas aumenta, a média observada se aproxima do valor teórico. Ou seja, conforme o tamanho da amostra cresce, a média da amostra se aproxima da média da população total.\n",
    "\n",
    "A importâncisa desta lei pode ser sentida em vários campos, isto porque ela garante resultados estáveis de longo prazo para as médias de eventos aleatórios. Por exemplo, ela explica por que os cassinos sempre ganham dinheiro no longo prazo, pois embora o casino possa perder dinheiro em uma única rodada de um jogo de roleta, seus ganhos tenderão a uma porcentagem previsível ao longo de um grande número de rodadas."
   ]
  },
  {
   "cell_type": "markdown",
   "id": "ffb67a74-dc0c-40a7-b367-a11f9b8b1a4a",
   "metadata": {},
   "source": [
    "Um exemplo amplamente citado para entender esse conceito é o lançamento de uma moeda. Podemos ter como resultado cara ou coroa, assim, a probabilidade de cada opção ocorrer é de 50% (1/2), porém ao realizarmos esse experimento a lei dos grandes números nos indica que nos primeiros lançamentos a frequência é instável.\n",
    "\n",
    "Através de um código no python criei uma função que simula o lançamento da moeda, ela recebe um argumento indicando a quantidade de vezes que a moeda foi jogada:"
   ]
  },
  {
   "cell_type": "code",
   "execution_count": 1,
   "id": "d3cc0083-f365-499f-b43a-907381e2f0b0",
   "metadata": {},
   "outputs": [],
   "source": [
    "import matplotlib.pyplot as plt\n",
    "import random\n",
    "plt.style.use('seaborn')\n",
    "%matplotlib inline"
   ]
  },
  {
   "cell_type": "code",
   "execution_count": 2,
   "id": "2520cd27-6b07-4b38-bbd0-23549117a3a2",
   "metadata": {},
   "outputs": [],
   "source": [
    "def flip_coin(flips):\n",
    "    heads_tails = [0, 0]\n",
    "    \n",
    "    for _ in range(flips):\n",
    "        heads_tails[random.randint(0, 1)] += 1\n",
    "\n",
    "    heads_tails[0] = int((heads_tails[0]/flips)*100)\n",
    "    heads_tails[1] = int((heads_tails[1]/flips)*100)\n",
    "    plt.bar([0,1], heads_tails, color=('dodgerblue', 'blueviolet'))\n",
    "    plt.ylim(0,100)"
   ]
  },
  {
   "cell_type": "markdown",
   "id": "f3fe177d-a047-4375-bf07-d7a2ba8a76f9",
   "metadata": {},
   "source": [
    "Primeiro jogamos a moeda 10 vezes em 3 turnos para visualizar as discrepâncias nas médias de cada um desses 10 lançamentos."
   ]
  },
  {
   "cell_type": "code",
   "execution_count": 3,
   "id": "324bda1f-df1b-4790-a5d0-69f1e80c740f",
   "metadata": {},
   "outputs": [
    {
     "data": {
      "image/png": "[encoded data removed]",
      "text/plain": [
       "<Figure size 720x288 with 3 Axes>"
      ]
     },
     "metadata": {
      "needs_background": "light"
     },
     "output_type": "display_data"
    }
   ],
   "source": [
    "flip = 10\n",
    "plt.figure(figsize=(10,4))\n",
    "\n",
    "# Realizando 10 lançamentos da moeda\n",
    "plt.subplot(1,3,1)\n",
    "flip_coin(flip)\n",
    "plt.ylabel('Porcentagem de ocorrência', fontweight='bold')\n",
    "plt.xlabel('Cara ou Coroa', fontweight='bold')\n",
    "\n",
    "# Realizando mais 10 lançamentos da moeda\n",
    "plt.subplot(1,3,2)\n",
    "flip_coin(flip)\n",
    "plt.xlabel('Cara ou Coroa', fontweight='bold')\n",
    "\n",
    "# Realizando 10 lançamentos da moeda\n",
    "plt.subplot(1,3,3)\n",
    "flip_coin(flip)\n",
    "plt.xlabel('Cara ou Coroa', fontweight='bold')\n",
    "\n",
    "plt.tight_layout()"
   ]
  },
  {
   "cell_type": "markdown",
   "id": "5256a1b4-4363-4b5a-a2b1-b90c54b6f9f0",
   "metadata": {},
   "source": [
    "Percebe-se que a cada 10 lançamentos das moedas as médias variam de uma forma muito discrepantes e, neste caso, bem longe da média esperada. Então, aumentamos a quantidade de vezes que jogamos para 100 vezes em 3 turnos."
   ]
  },
  {
   "cell_type": "code",
   "execution_count": 4,
   "id": "cfc22b3a-694f-423b-9e24-2ce8d6091dd4",
   "metadata": {},
   "outputs": [
    {
     "data": {
      "image/png": "[encoded data removed]",
      "text/plain": [
       "<Figure size 720x288 with 3 Axes>"
      ]
     },
     "metadata": {
      "needs_background": "light"
     },
     "output_type": "display_data"
    }
   ],
   "source": [
    "plt.figure(figsize=(10,4))\n",
    "flip = 100\n",
    "\n",
    "# Realizando 100 lançamentos da moeda \n",
    "plt.subplot(1,3,1)\n",
    "flip_coin(flip)\n",
    "plt.ylabel('Porcentagem de ocorrência', fontweight='bold')\n",
    "plt.xlabel('Cara ou Coroa', fontweight='bold')\n",
    "\n",
    "# Realizando mais 100 lançamentos da moeda\n",
    "plt.subplot(1,3,2)\n",
    "flip_coin(flip)\n",
    "plt.xlabel('Cara ou Coroa', fontweight='bold')\n",
    "\n",
    "# Realizando mais 100 lançamentos da moeda\n",
    "plt.subplot(1,3,3)\n",
    "flip_coin(flip)\n",
    "plt.xlabel('Cara ou Coroa', fontweight='bold')\n",
    "\n",
    "plt.tight_layout()"
   ]
  },
  {
   "cell_type": "markdown",
   "id": "4e4069d4-fe4d-462f-a701-c6b0b879683f",
   "metadata": {},
   "source": [
    "As médias de cada 100 lançamentos começaram a se aproximar mais da média esperada devido ao aumento da quantidade de lançamentos. Em seguida, realizamos cada turno com 1000 lançamentos."
   ]
  },
  {
   "cell_type": "code",
   "execution_count": 5,
   "id": "6d837783-c939-4d58-b077-f3498b674099",
   "metadata": {},
   "outputs": [
    {
     "data": {
      "image/png": "[encoded data removed]",
      "text/plain": [
       "<Figure size 720x288 with 3 Axes>"
      ]
     },
     "metadata": {
      "needs_background": "light"
     },
     "output_type": "display_data"
    }
   ],
   "source": [
    "plt.figure(figsize=(10,4))\n",
    "flip = 1000\n",
    "\n",
    "# Realizando 1000 lançamentos da moeda\n",
    "plt.subplot(1,3,1)\n",
    "flip_coin(flip)\n",
    "plt.ylabel('Porcentagem de ocorrência', fontweight='bold')\n",
    "plt.xlabel('Cara ou Coroa', fontweight='bold')\n",
    "\n",
    "# Realizando mais 1000 lançamentos da moeda\n",
    "plt.subplot(1,3,2)\n",
    "flip_coin(flip)\n",
    "plt.xlabel('Cara ou Coroa', fontweight='bold')\n",
    "\n",
    "# Realizando mais 1000 lançamentos da moeda\n",
    "plt.subplot(1,3,3)\n",
    "flip_coin(flip)\n",
    "plt.xlabel('Cara ou Coroa', fontweight='bold')\n",
    "\n",
    "plt.tight_layout()"
   ]
  },
  {
   "cell_type": "markdown",
   "id": "1a01a995-0fd6-4417-a0bd-27facb6e5470",
   "metadata": {},
   "source": [
    "Observamos que as médias de cada 1000 lançamentos estão bem próximas dos 50% esperados, ou seja, comparando todos os gráficos verificamos que as porcentagens de ocorrência de cada lado da moeda convergiram para o valor esperado à medida que os lançamentos gerais começaram a crescer. Assim, percebe-se que a lei dos grandes números nos ajuda a entender por que um único resultado por si só não pode ser confiável."
   ]
  }
 ],
 "metadata": {
  "kernelspec": {
   "display_name": "Python 3 (ipykernel)",
   "language": "python",
   "name": "python3"
  },
  "language_info": {
   "codemirror_mode": {
    "name": "ipython",
    "version": 3
   },
   "file_extension": ".py",
   "mimetype": "text/x-python",
   "name": "python",
   "nbconvert_exporter": "python",
   "pygments_lexer": "ipython3",
   "version": "3.10.4"
  }
 },
 "nbformat": 4,
 "nbformat_minor": 5
}
